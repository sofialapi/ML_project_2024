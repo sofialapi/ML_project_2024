{
 "cells": [
  {
   "cell_type": "code",
   "id": "initial_id",
   "metadata": {
    "collapsed": true,
    "ExecuteTime": {
     "end_time": "2024-05-28T09:39:29.207005Z",
     "start_time": "2024-05-28T09:39:29.186004Z"
    }
   },
   "source": [
    "import db_manager as man\n",
    "import pandas as pd\n",
    "import matplotlib.pyplot as plt\n",
    "from PIL import Image\n",
    "import io\n",
    "import image_combinator as comb\n",
    "import image_visualizator as vis\n",
    "import csv\n",
    "import numpy as np\n",
    "import base64"
   ],
   "execution_count": 57,
   "outputs": []
  },
  {
   "metadata": {
    "ExecuteTime": {
     "end_time": "2024-05-28T08:22:43.011002Z",
     "start_time": "2024-05-28T08:22:38.134962Z"
    }
   },
   "cell_type": "code",
   "source": [
    "df= pd.read_csv('Tiles_images_db.csv')\n",
    "print(df.head())"
   ],
   "id": "783036af09638886",
   "execution_count": 38,
   "outputs": []
  },
  {
   "metadata": {
    "ExecuteTime": {
     "end_time": "2024-05-28T09:20:35.726792Z",
     "start_time": "2024-05-28T09:20:35.717786Z"
    }
   },
   "cell_type": "code",
   "source": [
    "df_16 = df[df['tile_row'] == 16]['image']\n",
    "first = df_16[0]\n",
    "#print(first)"
   ],
   "id": "eb6c8f6685da686f",
   "execution_count": 46,
   "outputs": []
  },
  {
   "metadata": {
    "ExecuteTime": {
     "end_time": "2024-05-28T09:50:42.749909Z",
     "start_time": "2024-05-28T09:50:42.737909Z"
    }
   },
   "cell_type": "code",
   "source": [
    "riga_da_modificare = df.iloc[0]\n",
    "\n",
    "# Trova tutte le colonne contenenti parti del file PNG\n",
    "colonnes_png = [col for col in riga_da_modificare.index if 'png' in str(col).lower()]\n",
    "\n",
    "# Unisci le celle contenenti il PNG in una singola stringa, aggiungendo virgole\n",
    "png_stringa = ','.join(riga_da_modificare[col] + ',' for col in colonnes_png)\n",
    "\n",
    "# Visualizza l'immagine\n",
    "try:\n",
    "    # Rimuovi l'eventuale virgola finale\n",
    "    png_stringa = png_stringa.rstrip(',')\n",
    "    \n",
    "    # Decodifica l'immagine dalla stringa base64\n",
    "    img_data = base64.b64decode(png_stringa)\n",
    "    print(img_data)\n",
    "    # Mostra l'immagine\n",
    "    #img = Image.open(BytesIO(img_data))\n",
    "    #img.show()\n",
    "except Exception as e:\n",
    "    print(\"Si è verificato un errore durante la visualizzazione dell'immagine:\", e)"
   ],
   "id": "1a4a3270f9739204",
   "execution_count": 65,
   "outputs": []
  },
  {
   "metadata": {
    "ExecuteTime": {
     "end_time": "2024-05-28T09:36:33.732200Z",
     "start_time": "2024-05-28T09:36:19.918759Z"
    }
   },
   "cell_type": "code",
   "source": "",
   "id": "856c2c4240cc254e",
   "execution_count": 56,
   "outputs": []
  }
 ],
 "metadata": {
  "kernelspec": {
   "display_name": "Python 3",
   "language": "python",
   "name": "python3"
  },
  "language_info": {
   "codemirror_mode": {
    "name": "ipython",
    "version": 2
   },
   "file_extension": ".py",
   "mimetype": "text/x-python",
   "name": "python",
   "nbconvert_exporter": "python",
   "pygments_lexer": "ipython2",
   "version": "2.7.6"
  }
 },
 "nbformat": 4,
 "nbformat_minor": 5
}
