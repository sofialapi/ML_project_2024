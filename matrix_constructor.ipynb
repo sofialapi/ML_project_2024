{
 "cells": [
  {
   "cell_type": "code",
   "id": "initial_id",
   "metadata": {
    "collapsed": true,
    "ExecuteTime": {
     "end_time": "2024-05-31T12:18:38.178628Z",
     "start_time": "2024-05-31T12:18:38.101462Z"
    }
   },
   "source": [
    "from PIL import Image\n",
    "import numpy as np\n",
    "import os\n",
    "from tqdm import tqdm\n",
    "import sqlite3"
   ],
   "outputs": [],
   "execution_count": 1
  },
  {
   "metadata": {
    "ExecuteTime": {
     "end_time": "2024-05-31T12:18:38.182574Z",
     "start_time": "2024-05-31T12:18:38.178628Z"
    }
   },
   "cell_type": "code",
   "source": [
    "def ricomponi_mappa(cartella):\n",
    "    # Definisci le dimensioni di ciascuna immagine e la griglia totale\n",
    "    larghezza_img = 256\n",
    "    altezza_img = 256\n",
    "    righe = 32\n",
    "    colonne = 128\n",
    "    \n",
    "    # Dimensioni dell'immagine finale\n",
    "    larghezza_totale = larghezza_img * colonne\n",
    "    altezza_totale = altezza_img * righe\n",
    "    \n",
    "    # Crea una nuova immagine vuota con le dimensioni totali\n",
    "    immagine_finale = Image.new('RGB', (larghezza_totale, altezza_totale))\n",
    "    \n",
    "    # Loop attraverso tutte le posizioni per inserire le immagini\n",
    "    for riga in range(16, 48):\n",
    "        for colonna in range(0, 128):\n",
    "            # Costruisci il nome del file\n",
    "            nome_file = f\"image_{riga}_{colonna}.png\"\n",
    "            percorso_file = os.path.join(cartella, nome_file)\n",
    "            \n",
    "            # Carica l'immagine\n",
    "            if os.path.exists(percorso_file):\n",
    "                img = Image.open(percorso_file)\n",
    "                # Calcola la posizione in cui incollare l'immagine\n",
    "                posizione_x = (colonna) * larghezza_img\n",
    "                posizione_y = (riga - 16) * altezza_img\n",
    "                \n",
    "                # Incolla l'immagine nel punto corretto\n",
    "                immagine_finale.paste(img, (posizione_x, posizione_y))\n",
    "            else:\n",
    "                print(f\"File {percorso_file} non trovato.\")\n",
    "    \n",
    "    return immagine_finale"
   ],
   "id": "bd65436f48df6a18",
   "outputs": [],
   "execution_count": 2
  },
  {
   "metadata": {
    "ExecuteTime": {
     "end_time": "2024-05-31T12:18:38.188639Z",
     "start_time": "2024-05-31T12:18:38.183577Z"
    }
   },
   "cell_type": "code",
   "source": [
    "def immagine_a_matrice_parziale(immagine, start_row, end_row):\n",
    "    # Converti l'immagine in formato RGB (se non lo è già)\n",
    "    immagine = immagine.convert('RGB')\n",
    "    \n",
    "    # Ottieni i dati dell'immagine come array NumPy\n",
    "    array_dati = np.array(immagine)\n",
    "    \n",
    "    # Ottieni la porzione specificata dell'immagine\n",
    "    porzione_dati = array_dati[start_row:end_row]\n",
    "    \n",
    "    return porzione_dati\n",
    "\n",
    "def salva_matrice_in_db_parziale(matrice, start_row, nome_db):\n",
    "    conn = sqlite3.connect(nome_db)\n",
    "    cur = conn.cursor()\n",
    "    \n",
    "    # Crea la tabella per i pixel se non esiste già\n",
    "    cur.execute('''\n",
    "        CREATE TABLE IF NOT EXISTS pixels (\n",
    "            x INTEGER,\n",
    "            y INTEGER,\n",
    "            value INTEGER\n",
    "        )\n",
    "    ''')\n",
    "    \n",
    "    # Inserisce i dati della matrice nel database\n",
    "    altezza, larghezza, _ = matrice.shape\n",
    "    \n",
    "    for i in tqdm(range(altezza), desc=f\"Salvataggio della matrice nel DB dalla riga {start_row}\"):\n",
    "        for j in range(larghezza):\n",
    "            if len(matrice.shape) == 3:  # Se l'immagine è a colori\n",
    "                r, g, b = matrice[i, j]\n",
    "                value = int(0.2989 * r + 0.587 * g + 0.114 * b)  # Calcolo del valore di intensità grigia\n",
    "            else:  # Se l'immagine è in scala di grigi\n",
    "                value = int(matrice[i, j])\n",
    "            cur.execute('INSERT INTO pixels (x, y, value) VALUES (?, ?, ?)', (start_row + i, j, value))\n",
    "    \n",
    "    # Commit e chiusura della connessione\n",
    "    conn.commit()\n",
    "    conn.close()\n",
    "\n",
    "def processa_immagine_in_tranche(cartella, nome_db, num_tranche=4):\n",
    "    immagine_ricomposta = ricomponi_mappa(cartella)\n",
    "    altezza_totale = immagine_ricomposta.size[1]\n",
    "    \n",
    "    tranche_size = altezza_totale // num_tranche\n",
    "    \n",
    "    for tranche in range(num_tranche):\n",
    "        start_row = tranche * tranche_size\n",
    "        end_row = (tranche + 1) * tranche_size if tranche < num_tranche - 1 else altezza_totale\n",
    "        \n",
    "        matrice_parziale = immagine_a_matrice_parziale(immagine_ricomposta, start_row, end_row)\n",
    "        salva_matrice_in_db_parziale(matrice_parziale, start_row, nome_db)"
   ],
   "id": "10b4dd247f39ee03",
   "outputs": [],
   "execution_count": 3
  },
  {
   "metadata": {
    "ExecuteTime": {
     "end_time": "2024-05-31T12:37:43.354451Z",
     "start_time": "2024-05-31T12:18:38.188639Z"
    }
   },
   "cell_type": "code",
   "source": [
    "cartella_programma = \"tante_immagini\"\n",
    "nome_db = 'matrice_pixel.db'\n",
    "processa_immagine_in_tranche(cartella_programma, nome_db)"
   ],
   "id": "e350b9326af5e4a",
   "outputs": [
    {
     "name": "stderr",
     "output_type": "stream",
     "text": [
      "Salvataggio della matrice nel DB dalla riga 0: 100%|██████████| 2048/2048 [04:42<00:00,  7.26it/s]\n",
      "Salvataggio della matrice nel DB dalla riga 2048: 100%|██████████| 2048/2048 [04:45<00:00,  7.19it/s]\n",
      "Salvataggio della matrice nel DB dalla riga 4096: 100%|██████████| 2048/2048 [04:45<00:00,  7.18it/s]\n",
      "Salvataggio della matrice nel DB dalla riga 6144: 100%|██████████| 2048/2048 [04:44<00:00,  7.21it/s]\n"
     ]
    }
   ],
   "execution_count": 4
  },
  {
   "metadata": {
    "ExecuteTime": {
     "end_time": "2024-05-31T12:37:43.358219Z",
     "start_time": "2024-05-31T12:37:43.355475Z"
    }
   },
   "cell_type": "code",
   "source": [
    "#sotto_matrice = estrai_sotto_matrice(matrice, n, m, l)\n",
    "#print(sotto_matrice)"
   ],
   "id": "99bd755a91891852",
   "outputs": [],
   "execution_count": 5
  }
 ],
 "metadata": {
  "kernelspec": {
   "display_name": "Python 3",
   "language": "python",
   "name": "python3"
  },
  "language_info": {
   "codemirror_mode": {
    "name": "ipython",
    "version": 2
   },
   "file_extension": ".py",
   "mimetype": "text/x-python",
   "name": "python",
   "nbconvert_exporter": "python",
   "pygments_lexer": "ipython2",
   "version": "2.7.6"
  }
 },
 "nbformat": 4,
 "nbformat_minor": 5
}
