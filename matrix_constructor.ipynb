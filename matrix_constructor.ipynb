{
 "cells": [
  {
   "cell_type": "code",
   "id": "initial_id",
   "metadata": {
    "collapsed": true,
    "ExecuteTime": {
     "end_time": "2024-05-31T09:35:29.198035Z",
     "start_time": "2024-05-31T09:35:28.421899Z"
    }
   },
   "source": [
    "from PIL import Image\n",
    "import numpy as np\n",
    "import os\n",
    "from tqdm import tqdm\n",
    "import sqlite3"
   ],
   "outputs": [],
   "execution_count": 1
  },
  {
   "metadata": {
    "ExecuteTime": {
     "end_time": "2024-05-31T09:36:28.672371Z",
     "start_time": "2024-05-31T09:36:28.624040Z"
    }
   },
   "cell_type": "code",
   "source": [
    "def ricomponi_mappa(cartella):\n",
    "    # Definisci le dimensioni di ciascuna immagine e la griglia totale\n",
    "    larghezza_img = 256\n",
    "    altezza_img = 256\n",
    "    righe = 32\n",
    "    colonne = 128\n",
    "    \n",
    "    # Dimensioni dell'immagine finale\n",
    "    larghezza_totale = larghezza_img * colonne\n",
    "    altezza_totale = altezza_img * righe\n",
    "    \n",
    "    # Crea una nuova immagine vuota con le dimensioni totali\n",
    "    immagine_finale = Image.new('RGB', (larghezza_totale, altezza_totale))\n",
    "    \n",
    "    # Loop attraverso tutte le posizioni per inserire le immagini\n",
    "    for riga in range(16, 48):\n",
    "        for colonna in range(0, 128):\n",
    "            # Costruisci il nome del file\n",
    "            nome_file = f\"image_{riga}_{colonna}.png\"\n",
    "            percorso_file = os.path.join(cartella, nome_file)\n",
    "            \n",
    "            # Carica l'immagine\n",
    "            if os.path.exists(percorso_file):\n",
    "                img = Image.open(percorso_file)\n",
    "                # Calcola la posizione in cui incollare l'immagine\n",
    "                posizione_x = (colonna) * larghezza_img\n",
    "                posizione_y = (riga - 16) * altezza_img\n",
    "                \n",
    "                # Incolla l'immagine nel punto corretto\n",
    "                immagine_finale.paste(img, (posizione_x, posizione_y))\n",
    "            else:\n",
    "                print(f\"File {percorso_file} non trovato.\")\n",
    "    \n",
    "    return immagine_finale"
   ],
   "id": "bd65436f48df6a18",
   "outputs": [],
   "execution_count": 2
  },
  {
   "metadata": {
    "ExecuteTime": {
     "end_time": "2024-05-31T09:37:08.508631Z",
     "start_time": "2024-05-31T09:37:08.477385Z"
    }
   },
   "cell_type": "code",
   "source": [
    "def immagine_a_matrice(immagine):\n",
    "    # Converti l'immagine in formato RGB (se non lo è già)\n",
    "    immagine = immagine.convert('RGB')\n",
    "    \n",
    "    # Ottieni i dati dell'immagine come array NumPy\n",
    "    array_dati = np.array(immagine)\n",
    "    \n",
    "    # Ottieni le dimensioni dell'immagine\n",
    "    altezza, larghezza, _ = array_dati.shape\n",
    "    \n",
    "    # Inizializza la matrice di output\n",
    "    matrice_pixel = []\n",
    "\n",
    "    # Utilizza tqdm per mostrare una barra di progresso\n",
    "    for i in tqdm(range(altezza), desc=\"Conversione dell'immagine in matrice\"):\n",
    "        riga = []\n",
    "        for j in range(larghezza):\n",
    "            riga.append(tuple(array_dati[i, j]))\n",
    "        matrice_pixel.append(riga)\n",
    "    \n",
    "    return matrice_pixel\n",
    "\n",
    "def estrai_sotto_matrice(matrice, n, m, l):\n",
    "    altezza, larghezza, _ = matrice.shape\n",
    "    \n",
    "    # Calcola i limiti della sotto-matrice\n",
    "    half_l = l // 2\n",
    "    top = max(0, n - half_l)\n",
    "    bottom = min(altezza, n + half_l + 1)\n",
    "    left = max(0, m - half_l)\n",
    "    right = min(larghezza, m + half_l + 1)\n",
    "    \n",
    "    # Creiamo una matrice vuota l x l con valori di default (0, 0, 0)\n",
    "    sotto_matrice = np.zeros((l, l, 3), dtype=matrice.dtype)\n",
    "    \n",
    "    # Calcola gli offset per gestire i bordi\n",
    "    offset_top = top - (n - half_l)\n",
    "    offset_left = left - (m - half_l)\n",
    "    \n",
    "    # Copia i valori dalla matrice principale alla sotto-matrice\n",
    "    sotto_matrice[offset_top:offset_top + (bottom - top), offset_left:offset_left + (right - left)] = matrice[top:bottom, left:right]\n",
    "    \n",
    "    return sotto_matrice"
   ],
   "id": "10b4dd247f39ee03",
   "outputs": [],
   "execution_count": 5
  },
  {
   "metadata": {},
   "cell_type": "code",
   "outputs": [],
   "execution_count": null,
   "source": [
    "def salva_matrice_in_db(matrice, nome_db):\n",
    "    conn = sqlite3.connect(nome_db)\n",
    "    cur = conn.cursor()\n",
    "    \n",
    "    # Crea la tabella per i pixel se non esiste già\n",
    "    cur.execute('''\n",
    "        CREATE TABLE IF NOT EXISTS pixels (\n",
    "            x INTEGER,\n",
    "            y INTEGER,\n",
    "            r INTEGER,\n",
    "            g INTEGER,\n",
    "            b INTEGER\n",
    "        )\n",
    "    ''')\n",
    "    \n",
    "    # Inserisce i dati della matrice nel database\n",
    "    altezza = len(matrice)\n",
    "    larghezza = len(matrice[0])\n",
    "    \n",
    "    for i in tqdm(range(altezza), desc=\"Salvataggio della matrice nel DB\"):\n",
    "        for j in range(larghezza):\n",
    "            r, g, b = matrice[i][j]\n",
    "            cur.execute('INSERT INTO pixels (x, y, r, g, b) VALUES (?, ?, ?, ?, ?)', (i, j, r, g, b))\n",
    "    \n",
    "    # Commit e chiusura della connessione\n",
    "    conn.commit()\n",
    "    conn.close()"
   ],
   "id": "d0ed09c956931b4c"
  },
  {
   "metadata": {
    "ExecuteTime": {
     "end_time": "2024-05-31T09:37:32.960728Z",
     "start_time": "2024-05-31T09:37:11.991861Z"
    }
   },
   "cell_type": "code",
   "source": "immagine_finale = ricomponi_mappa(\"tante_immagini\")\n",
   "id": "e0f2d1ec3d4b3838",
   "outputs": [],
   "execution_count": 6
  },
  {
   "metadata": {
    "ExecuteTime": {
     "end_time": "2024-05-31T09:36:43.334678Z",
     "start_time": "2024-05-31T09:36:41.989714Z"
    }
   },
   "cell_type": "code",
   "source": "matrice_finale = immagine_a_matrice(immagine_finale)",
   "id": "bc4ed42fb8a49632",
   "outputs": [
    {
     "ename": "NameError",
     "evalue": "name 'immagine_a_matrice' is not defined",
     "output_type": "error",
     "traceback": [
      "\u001B[1;31m---------------------------------------------------------------------------\u001B[0m",
      "\u001B[1;31mNameError\u001B[0m                                 Traceback (most recent call last)",
      "Cell \u001B[1;32mIn[3], line 1\u001B[0m\n\u001B[1;32m----> 1\u001B[0m matrice_finale \u001B[38;5;241m=\u001B[39m \u001B[43mimmagine_a_matrice\u001B[49m(immagine_finale)\n",
      "\u001B[1;31mNameError\u001B[0m: name 'immagine_a_matrice' is not defined"
     ]
    }
   ],
   "execution_count": 3
  },
  {
   "metadata": {},
   "cell_type": "code",
   "outputs": [],
   "execution_count": null,
   "source": [
    "nome_db = 'matrice_pixels.db'\n",
    "salva_matrice_in_db(matrice, nome_db)"
   ],
   "id": "e350b9326af5e4a"
  },
  {
   "metadata": {},
   "cell_type": "code",
   "outputs": [],
   "execution_count": null,
   "source": [
    "#sotto_matrice = estrai_sotto_matrice(matrice, n, m, l)\n",
    "#print(sotto_matrice)"
   ],
   "id": "99bd755a91891852"
  }
 ],
 "metadata": {
  "kernelspec": {
   "display_name": "Python 3",
   "language": "python",
   "name": "python3"
  },
  "language_info": {
   "codemirror_mode": {
    "name": "ipython",
    "version": 2
   },
   "file_extension": ".py",
   "mimetype": "text/x-python",
   "name": "python",
   "nbconvert_exporter": "python",
   "pygments_lexer": "ipython2",
   "version": "2.7.6"
  }
 },
 "nbformat": 4,
 "nbformat_minor": 5
}
