{
 "cells": [
  {
   "metadata": {},
   "cell_type": "markdown",
   "source": "importo i pacchetti necessari",
   "id": "d1edfda9c66326c2"
  },
  {
   "cell_type": "code",
   "id": "initial_id",
   "metadata": {
    "collapsed": true,
    "ExecuteTime": {
     "end_time": "2024-04-25T13:17:28.320447Z",
     "start_time": "2024-04-25T13:17:23.858453Z"
    }
   },
   "source": [
    "import pandas as pd\n",
    "import requests\n",
    "import coordinates_calcolator as cc\n",
    "import url_contructor as uc\n",
    "import image_visualizator as iv\n",
    "from db_manager import create_empty_csv, populate_csv\n",
    "import toml"
   ],
   "outputs": [
    {
     "name": "stdout",
     "output_type": "stream",
     "text": [
      "           id     lat     lon   diam  depth\n",
      "2   01-000002  69.244 -27.240  79.63   0.09\n",
      "8   01-000008  75.539  13.829  58.40   0.11\n",
      "10  01-000010  77.707 -27.314  52.37   0.07\n",
      "15  01-000015  84.687   1.589  48.84   1.06\n",
      "23  01-000023  84.452 -18.503  43.03   0.49\n",
      "(85148, 5)\n"
     ]
    }
   ],
   "execution_count": 1
  },
  {
   "metadata": {},
   "cell_type": "markdown",
   "source": "prendo i dati dal csv filtrato",
   "id": "827efad47ba69229"
  },
  {
   "metadata": {
    "ExecuteTime": {
     "end_time": "2024-04-25T13:17:28.492444Z",
     "start_time": "2024-04-25T13:17:28.324450Z"
    }
   },
   "cell_type": "code",
   "source": [
    "mars_data = pd.read_csv('Mars_crater_db_filtered.csv')\n",
    "zoom = 6\n",
    "#create_empty_csv('Mars_crater_db_images.csv', ['id', 'image'])\n",
    "toml_data = toml.load('secrets.toml')\n",
    "api_key = toml_data['api_key']"
   ],
   "id": "4789541d2902e8bd",
   "outputs": [],
   "execution_count": 2
  },
  {
   "metadata": {},
   "cell_type": "markdown",
   "source": "dato un valore di inizio e uno di fine da mars data faccio partire una request costruita con url_contructor con lat e lon da coordinates_calcolator",
   "id": "615b928f89e8fb4d"
  },
  {
   "metadata": {
    "ExecuteTime": {
     "end_time": "2024-04-25T13:17:28.508447Z",
     "start_time": "2024-04-25T13:17:28.495449Z"
    }
   },
   "cell_type": "code",
   "source": [
    "def get_data(start, end, api_key):\n",
    "    data = []\n",
    "    for i in range(start, end):\n",
    "        lat = mars_data['lat'][i]\n",
    "        #print(lat)\n",
    "        lon = mars_data['lon'][i]\n",
    "        #print(lon)\n",
    "        id = mars_data['id'][i]\n",
    "        #print(id)\n",
    "        lat, lon = cc.lat_lon_to_tile(lat, lon, zoom)\n",
    "        #print (lat, lon)\n",
    "        url = uc.get_request_url(lat, lon, tileMatrix=zoom)\n",
    "        print(url)\n",
    "        params = {'api_key': api_key}  # Aggiungi la chiave API come parametro\n",
    "        \n",
    "        # Esegui la richiesta HTTP con la chiave API\n",
    "        response = requests.get(url, params=params)\n",
    "       \n",
    "        if response.status_code == 200:\n",
    "            data.append([id,response.content])\n",
    "        else:\n",
    "            print('error')\n",
    "    return data"
   ],
   "id": "c48cd73a0c65ddd1",
   "outputs": [],
   "execution_count": 3
  },
  {
   "metadata": {
    "ExecuteTime": {
     "end_time": "2024-04-25T13:18:14.247072Z",
     "start_time": "2024-04-25T13:18:01.136165Z"
    }
   },
   "cell_type": "code",
   "source": "data = get_data(0,20, api_key)\n",
   "id": "ed426354608e334b",
   "outputs": [
    {
     "name": "stdout",
     "output_type": "stream",
     "text": [
      "https://trek.nasa.gov/tiles/Mars/EQ/msss_atlas_simp_clon/1.0.0//default/default028mm/6/27/14.png\n",
      "https://trek.nasa.gov/tiles/Mars/EQ/msss_atlas_simp_clon/1.0.0//default/default028mm/6/34/10.png\n",
      "https://trek.nasa.gov/tiles/Mars/EQ/msss_atlas_simp_clon/1.0.0//default/default028mm/6/27/9.png\n",
      "https://trek.nasa.gov/tiles/Mars/EQ/msss_atlas_simp_clon/1.0.0//default/default028mm/6/32/0.png\n",
      "https://trek.nasa.gov/tiles/Mars/EQ/msss_atlas_simp_clon/1.0.0//default/default028mm/6/28/1.png\n",
      "https://trek.nasa.gov/tiles/Mars/EQ/msss_atlas_simp_clon/1.0.0//default/default028mm/6/30/14.png\n",
      "https://trek.nasa.gov/tiles/Mars/EQ/msss_atlas_simp_clon/1.0.0//default/default028mm/6/33/14.png\n",
      "https://trek.nasa.gov/tiles/Mars/EQ/msss_atlas_simp_clon/1.0.0//default/default028mm/6/33/15.png\n",
      "https://trek.nasa.gov/tiles/Mars/EQ/msss_atlas_simp_clon/1.0.0//default/default028mm/6/32/10.png\n",
      "https://trek.nasa.gov/tiles/Mars/EQ/msss_atlas_simp_clon/1.0.0//default/default028mm/6/35/14.png\n",
      "https://trek.nasa.gov/tiles/Mars/EQ/msss_atlas_simp_clon/1.0.0//default/default028mm/6/29/11.png\n",
      "https://trek.nasa.gov/tiles/Mars/EQ/msss_atlas_simp_clon/1.0.0//default/default028mm/6/37/13.png\n",
      "https://trek.nasa.gov/tiles/Mars/EQ/msss_atlas_simp_clon/1.0.0//default/default028mm/6/26/8.png\n",
      "https://trek.nasa.gov/tiles/Mars/EQ/msss_atlas_simp_clon/1.0.0//default/default028mm/6/29/13.png\n",
      "https://trek.nasa.gov/tiles/Mars/EQ/msss_atlas_simp_clon/1.0.0//default/default028mm/6/28/16.png\n",
      "https://trek.nasa.gov/tiles/Mars/EQ/msss_atlas_simp_clon/1.0.0//default/default028mm/6/36/12.png\n",
      "https://trek.nasa.gov/tiles/Mars/EQ/msss_atlas_simp_clon/1.0.0//default/default028mm/6/34/9.png\n",
      "https://trek.nasa.gov/tiles/Mars/EQ/msss_atlas_simp_clon/1.0.0//default/default028mm/6/36/12.png\n",
      "https://trek.nasa.gov/tiles/Mars/EQ/msss_atlas_simp_clon/1.0.0//default/default028mm/6/32/12.png\n",
      "https://trek.nasa.gov/tiles/Mars/EQ/msss_atlas_simp_clon/1.0.0//default/default028mm/6/30/7.png\n"
     ]
    }
   ],
   "execution_count": 7
  },
  {
   "metadata": {},
   "cell_type": "markdown",
   "source": [
    "\n",
    "for i in range(len(data)):\n",
    "    id = data[i][0]\n",
    "    print(id)\n",
    "    image = data[i][1]\n",
    "    iv.image_visualizator_from_bin(image)\n"
   ],
   "id": "38175128ab6b5a47"
  },
  {
   "metadata": {},
   "cell_type": "markdown",
   "source": "popolo il csv 'Mars_crater_db_images.csv' con i dati ottenuti",
   "id": "7648b1b54dd356db"
  },
  {
   "metadata": {
    "ExecuteTime": {
     "end_time": "2024-04-25T13:18:17.262550Z",
     "start_time": "2024-04-25T13:18:17.098551Z"
    }
   },
   "cell_type": "code",
   "source": "populate_csv(data)\n",
   "id": "ad7f7120e7253f61",
   "outputs": [
    {
     "name": "stdout",
     "output_type": "stream",
     "text": [
      "Added 11 new entries. Total entries: 20 (before: 9)\n"
     ]
    }
   ],
   "execution_count": 8
  },
  {
   "metadata": {
    "ExecuteTime": {
     "end_time": "2024-04-25T13:17:31.929358Z",
     "start_time": "2024-04-25T13:17:31.907352Z"
    }
   },
   "cell_type": "code",
   "source": "print(len(data))",
   "id": "3d80e27ce31b832c",
   "outputs": [
    {
     "name": "stdout",
     "output_type": "stream",
     "text": [
      "5\n"
     ]
    }
   ],
   "execution_count": 6
  },
  {
   "metadata": {},
   "cell_type": "markdown",
   "source": "",
   "id": "75a45f5571b2cf17"
  },
  {
   "metadata": {
    "ExecuteTime": {
     "end_time": "2024-04-25T15:31:15.099291Z",
     "start_time": "2024-04-25T15:31:15.069292Z"
    }
   },
   "cell_type": "code",
   "source": [
    "def build_mars_url(x, y, z, p, d='', locale='', bbox='', extent='', sfz=''):\n",
    "    base_url = \"https://trek.nasa.gov/mars/\"\n",
    "    params = {\n",
    "        'v': '0.1',\n",
    "        'x': x,\n",
    "        'y': y,\n",
    "        'z': z,\n",
    "        'p': p,\n",
    "        'd': d,\n",
    "        'locale': locale,\n",
    "        'b': bbox,\n",
    "        'e': extent,\n",
    "        'sfz': sfz,\n",
    "        'w': ''  # Il parametro 'w' è vuoto nell'URL originale\n",
    "    }\n",
    "    # Costruisci l'URL aggiungendo i parametri come stringa di query\n",
    "    url = base_url + '?' + '&'.join([f\"{key}={value}\" for key, value in params.items()])\n",
    "    return url"
   ],
   "id": "6afc6a98ad195dff",
   "outputs": [],
   "execution_count": 23
  },
  {
   "metadata": {
    "ExecuteTime": {
     "end_time": "2024-04-25T15:34:12.368075Z",
     "start_time": "2024-04-25T15:34:12.357077Z"
    }
   },
   "cell_type": "code",
   "source": [
    "def get_mars_data(x, y, z, p, d='', locale='', bbox='', extent='', sfz=''):\n",
    "    # Costruisci l'URL utilizzando la funzione build_mars_url\n",
    "    url = build_mars_url(x, y, z, p, d, locale, bbox, extent, sfz)\n",
    "    print(url)\n",
    "    try:\n",
    "        # Esegui la richiesta GET all'URL\n",
    "        response = requests.get(url)\n",
    "        # Verifica se la richiesta è andata a buon fine (status code 200)\n",
    "        if response.status_code == 200:\n",
    "            # Restituisci il contenuto della risposta\n",
    "            return response.content\n",
    "        else:\n",
    "            # Se la richiesta non è andata a buon fine, stampa un messaggio di errore\n",
    "            print(f\"Errore durante la richiesta GET: {response.status_code}\")\n",
    "            return None\n",
    "    except requests.exceptions.RequestException as e:\n",
    "        # Se si verifica un'eccezione durante la richiesta, stampa l'errore\n",
    "        print(f\"Errore durante la richiesta GET: {e}\")\n",
    "        return None"
   ],
   "id": "73f8550f94e3961",
   "outputs": [],
   "execution_count": 26
  },
  {
   "metadata": {
    "ExecuteTime": {
     "end_time": "2024-04-25T14:42:10.603611Z",
     "start_time": "2024-04-25T14:42:10.515612Z"
    }
   },
   "cell_type": "code",
   "source": [
    "def get_data_from_coordinates(lat,lon,zoom, api_key):\n",
    "    data = []\n",
    "    lat, lon = cc.lat_lon_to_tile(lat, lon, zoom)\n",
    "    url = uc.get_request_url(lat, lon, tileMatrix=zoom)\n",
    "    print(url)\n",
    "    params = {'api_key': api_key}  # Aggiungi la chiave API come parametro\n",
    "    \n",
    "    # Esegui la richiesta HTTP con la chiave API\n",
    "    response = requests.get(url, params=params)\n",
    "    \n",
    "    if response.status_code == 200:\n",
    "        data.append([id,response.content])\n",
    "    else:\n",
    "        print('error')\n",
    "    return data"
   ],
   "id": "1fc00d24179658bc",
   "outputs": [],
   "execution_count": 9
  },
  {
   "metadata": {
    "ExecuteTime": {
     "end_time": "2024-04-25T15:34:15.563598Z",
     "start_time": "2024-04-25T15:34:14.969607Z"
    }
   },
   "cell_type": "code",
   "source": [
    "#data_new = get_data_from_coordinates(27.5,-69.7,2, api_key)\n",
    "x = 27.5\n",
    "y = -69.7\n",
    "z = 2\n",
    "p = \"urn%3Aogc%3Adef%3Acrs%3AEPSG%3A%3A104905\"\n",
    "data_new = get_mars_data(27.5,-69.7,2, api_key)"
   ],
   "id": "5fe465fce884e5e9",
   "outputs": [
    {
     "name": "stdout",
     "output_type": "stream",
     "text": [
      "https://trek.nasa.gov/mars/?v=0.1&x=27.5&y=-69.7&z=2&p=4jSaeeKaa3no2clLYlFzb0IOsGrh50gA8lrTaWIj&d=&locale=&b=&e=&sfz=&w=\n"
     ]
    }
   ],
   "execution_count": 27
  },
  {
   "metadata": {},
   "cell_type": "code",
   "outputs": [],
   "execution_count": null,
   "source": "",
   "id": "8595aa5bb9e021d9"
  }
 ],
 "metadata": {
  "kernelspec": {
   "display_name": "Python 3",
   "language": "python",
   "name": "python3"
  },
  "language_info": {
   "codemirror_mode": {
    "name": "ipython",
    "version": 2
   },
   "file_extension": ".py",
   "mimetype": "text/x-python",
   "name": "python",
   "nbconvert_exporter": "python",
   "pygments_lexer": "ipython2",
   "version": "2.7.6"
  }
 },
 "nbformat": 4,
 "nbformat_minor": 5
}
