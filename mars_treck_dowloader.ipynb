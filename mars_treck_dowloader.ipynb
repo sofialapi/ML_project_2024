{
 "cells": [
  {
   "metadata": {},
   "cell_type": "markdown",
   "source": "importo i pacchetti necessari",
   "id": "d1edfda9c66326c2"
  },
  {
   "cell_type": "code",
   "id": "initial_id",
   "metadata": {
    "collapsed": true,
    "ExecuteTime": {
     "end_time": "2024-04-25T11:18:23.804220Z",
     "start_time": "2024-04-25T11:18:23.793220Z"
    }
   },
   "source": [
    "import pandas as pd\n",
    "import requests\n",
    "import coordinates_calcolator as cc\n",
    "import url_contructor as uc\n",
    "import image_visualizator as iv\n",
    "from db_manager import create_empty_csv, populate_csv"
   ],
   "outputs": [],
   "execution_count": 111
  },
  {
   "metadata": {},
   "cell_type": "markdown",
   "source": "prendo i dati dal csv filtrato",
   "id": "827efad47ba69229"
  },
  {
   "metadata": {
    "ExecuteTime": {
     "end_time": "2024-04-25T11:18:23.944217Z",
     "start_time": "2024-04-25T11:18:23.828218Z"
    }
   },
   "cell_type": "code",
   "source": [
    "mars_data = pd.read_csv('Mars_crater_db_filtered.csv')\n",
    "zoom = 6\n",
    "create_empty_csv('Mars_crater_db_images.csv', ['id', 'image'])"
   ],
   "id": "4789541d2902e8bd",
   "outputs": [],
   "execution_count": 112
  },
  {
   "metadata": {},
   "cell_type": "markdown",
   "source": "dato un valore di inizio e uno di fine da mars data faccio partire una request costruita con url_contructor con lat e lon da coordinates_calcolator",
   "id": "615b928f89e8fb4d"
  },
  {
   "metadata": {
    "ExecuteTime": {
     "end_time": "2024-04-25T11:18:23.976218Z",
     "start_time": "2024-04-25T11:18:23.948219Z"
    }
   },
   "cell_type": "code",
   "source": [
    "def get_data(start, end):\n",
    "    data = []\n",
    "    for i in range(start, end):\n",
    "        lat = mars_data['lat'][i]\n",
    "        print(lat)\n",
    "        lon = mars_data['lon'][i]\n",
    "        print(lon)\n",
    "        id = mars_data['id'][i]\n",
    "        print(id)\n",
    "        lat, lon = cc.lat_lon_to_tile(lat, lon, zoom)\n",
    "        print (lat, lon)\n",
    "        url = uc.get_request_url(lat, lon, tileMatrix=zoom)\n",
    "        print(url)\n",
    "        response = requests.get(url)\n",
    "        if response.status_code == 200:\n",
    "            data.append([id,response.content])\n",
    "        else:\n",
    "            print('error')\n",
    "    return data"
   ],
   "id": "c48cd73a0c65ddd1",
   "outputs": [],
   "execution_count": 113
  },
  {
   "metadata": {
    "ExecuteTime": {
     "end_time": "2024-04-25T11:18:30.669933Z",
     "start_time": "2024-04-25T11:18:23.979217Z"
    }
   },
   "cell_type": "code",
   "source": "data = get_data(0,10)\n",
   "id": "ed426354608e334b",
   "outputs": [
    {
     "name": "stdout",
     "output_type": "stream",
     "text": [
      "69.244\n",
      "-27.24\n",
      "01-000002\n",
      "27 14\n",
      "https://trek.nasa.gov/tiles/Mars/EQ/msss_atlas_simp_clon/1.0.0//default/default028mm/6/27/14.png\n",
      "75.539\n",
      "13.829\n",
      "01-000008\n",
      "34 10\n",
      "https://trek.nasa.gov/tiles/Mars/EQ/msss_atlas_simp_clon/1.0.0//default/default028mm/6/34/10.png\n",
      "77.707\n",
      "-27.314\n",
      "01-000010\n",
      "27 9\n",
      "https://trek.nasa.gov/tiles/Mars/EQ/msss_atlas_simp_clon/1.0.0//default/default028mm/6/27/9.png\n",
      "84.687\n",
      "1.589\n",
      "01-000015\n",
      "32 0\n",
      "https://trek.nasa.gov/tiles/Mars/EQ/msss_atlas_simp_clon/1.0.0//default/default028mm/6/32/0.png\n",
      "84.452\n",
      "-18.503\n",
      "01-000023\n",
      "28 1\n",
      "https://trek.nasa.gov/tiles/Mars/EQ/msss_atlas_simp_clon/1.0.0//default/default028mm/6/28/1.png\n",
      "70.051\n",
      "-7.939\n",
      "01-000025\n",
      "30 14\n",
      "https://trek.nasa.gov/tiles/Mars/EQ/msss_atlas_simp_clon/1.0.0//default/default028mm/6/30/14.png\n",
      "69.74\n",
      "9.215\n",
      "01-000033\n",
      "33 14\n",
      "https://trek.nasa.gov/tiles/Mars/EQ/msss_atlas_simp_clon/1.0.0//default/default028mm/6/33/14.png\n",
      "68.373\n",
      "6.224\n",
      "01-000035\n",
      "33 15\n",
      "https://trek.nasa.gov/tiles/Mars/EQ/msss_atlas_simp_clon/1.0.0//default/default028mm/6/33/15.png\n",
      "76.092\n",
      "3.067\n",
      "01-000041\n",
      "32 10\n",
      "https://trek.nasa.gov/tiles/Mars/EQ/msss_atlas_simp_clon/1.0.0//default/default028mm/6/32/10.png\n",
      "70.301\n",
      "18.4\n",
      "01-000050\n",
      "35 14\n",
      "https://trek.nasa.gov/tiles/Mars/EQ/msss_atlas_simp_clon/1.0.0//default/default028mm/6/35/14.png\n"
     ]
    }
   ],
   "execution_count": 114
  },
  {
   "metadata": {},
   "cell_type": "markdown",
   "source": [
    "\n",
    "for i in range(len(data)):\n",
    "    id = data[i][0]\n",
    "    print(id)\n",
    "    image = data[i][1]\n",
    "    iv.image_visualizator_from_bin(image)\n"
   ],
   "id": "38175128ab6b5a47"
  },
  {
   "metadata": {},
   "cell_type": "markdown",
   "source": "popolo il csv 'Mars_crater_db_images.csv' con i dati ottenuti",
   "id": "7648b1b54dd356db"
  },
  {
   "metadata": {
    "ExecuteTime": {
     "end_time": "2024-04-25T11:18:30.748924Z",
     "start_time": "2024-04-25T11:18:30.675617Z"
    }
   },
   "cell_type": "code",
   "source": "populate_csv(data)",
   "id": "ad7f7120e7253f61",
   "outputs": [],
   "execution_count": 115
  },
  {
   "metadata": {},
   "cell_type": "markdown",
   "source": "",
   "id": "75a45f5571b2cf17"
  }
 ],
 "metadata": {
  "kernelspec": {
   "display_name": "Python 3",
   "language": "python",
   "name": "python3"
  },
  "language_info": {
   "codemirror_mode": {
    "name": "ipython",
    "version": 2
   },
   "file_extension": ".py",
   "mimetype": "text/x-python",
   "name": "python",
   "nbconvert_exporter": "python",
   "pygments_lexer": "ipython2",
   "version": "2.7.6"
  }
 },
 "nbformat": 4,
 "nbformat_minor": 5
}
