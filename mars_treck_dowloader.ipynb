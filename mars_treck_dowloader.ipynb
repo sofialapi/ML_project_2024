{
 "cells": [
  {
   "metadata": {},
   "cell_type": "markdown",
   "source": "importo i pacchetti necessari",
   "id": "d1edfda9c66326c2"
  },
  {
   "cell_type": "code",
   "id": "initial_id",
   "metadata": {
    "collapsed": true,
    "ExecuteTime": {
     "end_time": "2024-04-26T08:36:16.913764Z",
     "start_time": "2024-04-26T08:36:12.119519Z"
    }
   },
   "source": [
    "import pandas as pd\n",
    "import requests\n",
    "import coordinates_calcolator as cc\n",
    "import url_contructor as uc\n",
    "import image_visualizator as iv\n",
    "from db_manager import create_empty_csv, populate_csv\n",
    "import toml"
   ],
   "outputs": [
    {
     "name": "stdout",
     "output_type": "stream",
     "text": [
      "           id     lat     lon   diam  depth\n",
      "2   01-000002  69.244 -27.240  79.63   0.09\n",
      "8   01-000008  75.539  13.829  58.40   0.11\n",
      "10  01-000010  77.707 -27.314  52.37   0.07\n",
      "15  01-000015  84.687   1.589  48.84   1.06\n",
      "23  01-000023  84.452 -18.503  43.03   0.49\n",
      "(85148, 5)\n"
     ]
    }
   ],
   "execution_count": 1
  },
  {
   "metadata": {},
   "cell_type": "markdown",
   "source": "prendo i dati dal csv filtrato",
   "id": "827efad47ba69229"
  },
  {
   "metadata": {
    "ExecuteTime": {
     "end_time": "2024-04-26T08:36:22.082935Z",
     "start_time": "2024-04-26T08:36:21.918687Z"
    }
   },
   "cell_type": "code",
   "source": [
    "mars_data = pd.read_csv('Mars_crater_db_filtered.csv')\n",
    "zoom = 6\n",
    "#create_empty_csv('Mars_crater_db_images.csv', ['id', 'image'])\n",
    "toml_data = toml.load('secrets.toml')\n",
    "api_key = toml_data['api_key']"
   ],
   "id": "4789541d2902e8bd",
   "outputs": [],
   "execution_count": 2
  },
  {
   "metadata": {},
   "cell_type": "markdown",
   "source": "dato un valore di inizio e uno di fine da mars data faccio partire una request costruita con url_contructor con lat e lon da coordinates_calcolator",
   "id": "615b928f89e8fb4d"
  },
  {
   "metadata": {
    "ExecuteTime": {
     "end_time": "2024-04-26T08:36:27.455988Z",
     "start_time": "2024-04-26T08:36:27.424734Z"
    }
   },
   "cell_type": "code",
   "source": [
    "def get_data(start, end, api_key):\n",
    "    data = []\n",
    "    for i in range(start, end):\n",
    "        lat = mars_data['lat'][i]\n",
    "        #print(lat)\n",
    "        lon = mars_data['lon'][i]\n",
    "        #print(lon)\n",
    "        id = mars_data['id'][i]\n",
    "        #print(id)\n",
    "        lat, lon = cc.lat_lon_to_tile_cil(lat, lon, zoom)\n",
    "        #print (lat, lon)\n",
    "        url = uc.get_request_url(lat, lon, tileMatrix=zoom)\n",
    "        print(url)\n",
    "        params = {'api_key': api_key}  # Aggiungi la chiave API come parametro\n",
    "        \n",
    "        # Esegui la richiesta HTTP con la chiave API\n",
    "        response = requests.get(url, params=params)\n",
    "       \n",
    "        if response.status_code == 200:\n",
    "            data.append([id,response.content])\n",
    "        else:\n",
    "            print('error')\n",
    "    return data"
   ],
   "id": "c48cd73a0c65ddd1",
   "outputs": [],
   "execution_count": 3
  },
  {
   "metadata": {
    "ExecuteTime": {
     "end_time": "2024-04-26T08:36:46.790410Z",
     "start_time": "2024-04-26T08:36:30.664769Z"
    }
   },
   "cell_type": "code",
   "source": "data = get_data(0,20, api_key)\n",
   "id": "ed426354608e334b",
   "outputs": [
    {
     "name": "stdout",
     "output_type": "stream",
     "text": [
      "https://trek.nasa.gov/tiles/Mars/EQ/msss_atlas_simp_clon/1.0.0//default/default028mm/6/27/2.png\n",
      "https://trek.nasa.gov/tiles/Mars/EQ/msss_atlas_simp_clon/1.0.0//default/default028mm/6/34/1.png\n",
      "https://trek.nasa.gov/tiles/Mars/EQ/msss_atlas_simp_clon/1.0.0//default/default028mm/6/27/0.png\n",
      "https://trek.nasa.gov/tiles/Mars/EQ/msss_atlas_simp_clon/1.0.0//default/default028mm/6/32/0.png\n",
      "https://trek.nasa.gov/tiles/Mars/EQ/msss_atlas_simp_clon/1.0.0//default/default028mm/6/28/0.png\n",
      "https://trek.nasa.gov/tiles/Mars/EQ/msss_atlas_simp_clon/1.0.0//default/default028mm/6/30/1.png\n",
      "https://trek.nasa.gov/tiles/Mars/EQ/msss_atlas_simp_clon/1.0.0//default/default028mm/6/33/1.png\n",
      "https://trek.nasa.gov/tiles/Mars/EQ/msss_atlas_simp_clon/1.0.0//default/default028mm/6/33/2.png\n",
      "https://trek.nasa.gov/tiles/Mars/EQ/msss_atlas_simp_clon/1.0.0//default/default028mm/6/32/0.png\n",
      "https://trek.nasa.gov/tiles/Mars/EQ/msss_atlas_simp_clon/1.0.0//default/default028mm/6/35/1.png\n",
      "https://trek.nasa.gov/tiles/Mars/EQ/msss_atlas_simp_clon/1.0.0//default/default028mm/6/29/1.png\n",
      "https://trek.nasa.gov/tiles/Mars/EQ/msss_atlas_simp_clon/1.0.0//default/default028mm/6/37/1.png\n",
      "https://trek.nasa.gov/tiles/Mars/EQ/msss_atlas_simp_clon/1.0.0//default/default028mm/6/26/0.png\n",
      "https://trek.nasa.gov/tiles/Mars/EQ/msss_atlas_simp_clon/1.0.0//default/default028mm/6/29/1.png\n",
      "https://trek.nasa.gov/tiles/Mars/EQ/msss_atlas_simp_clon/1.0.0//default/default028mm/6/28/2.png\n",
      "https://trek.nasa.gov/tiles/Mars/EQ/msss_atlas_simp_clon/1.0.0//default/default028mm/6/36/1.png\n",
      "https://trek.nasa.gov/tiles/Mars/EQ/msss_atlas_simp_clon/1.0.0//default/default028mm/6/34/0.png\n",
      "https://trek.nasa.gov/tiles/Mars/EQ/msss_atlas_simp_clon/1.0.0//default/default028mm/6/36/1.png\n",
      "https://trek.nasa.gov/tiles/Mars/EQ/msss_atlas_simp_clon/1.0.0//default/default028mm/6/32/1.png\n",
      "https://trek.nasa.gov/tiles/Mars/EQ/msss_atlas_simp_clon/1.0.0//default/default028mm/6/30/0.png\n"
     ]
    }
   ],
   "execution_count": 4
  },
  {
   "metadata": {},
   "cell_type": "markdown",
   "source": [
    "\n",
    "for i in range(len(data)):\n",
    "    id = data[i][0]\n",
    "    print(id)\n",
    "    image = data[i][1]\n",
    "    iv.image_visualizator_from_bin(image)\n"
   ],
   "id": "38175128ab6b5a47"
  },
  {
   "metadata": {},
   "cell_type": "markdown",
   "source": "popolo il csv 'Mars_crater_db_images.csv' con i dati ottenuti",
   "id": "7648b1b54dd356db"
  },
  {
   "metadata": {
    "ExecuteTime": {
     "end_time": "2024-04-25T13:18:17.262550Z",
     "start_time": "2024-04-25T13:18:17.098551Z"
    }
   },
   "cell_type": "code",
   "source": "populate_csv(data)\n",
   "id": "ad7f7120e7253f61",
   "outputs": [
    {
     "name": "stdout",
     "output_type": "stream",
     "text": [
      "Added 11 new entries. Total entries: 20 (before: 9)\n"
     ]
    }
   ],
   "execution_count": 8
  },
  {
   "metadata": {
    "ExecuteTime": {
     "end_time": "2024-04-25T13:17:31.929358Z",
     "start_time": "2024-04-25T13:17:31.907352Z"
    }
   },
   "cell_type": "code",
   "source": "print(len(data))",
   "id": "3d80e27ce31b832c",
   "outputs": [
    {
     "name": "stdout",
     "output_type": "stream",
     "text": [
      "5\n"
     ]
    }
   ],
   "execution_count": 6
  },
  {
   "metadata": {},
   "cell_type": "markdown",
   "source": "",
   "id": "75a45f5571b2cf17"
  },
  {
   "metadata": {},
   "cell_type": "markdown",
   "source": [
    "def build_mars_url(x, y, z, p, d='', locale='', bbox='', extent='', sfz=''):\n",
    "    base_url = \"https://trek.nasa.gov/mars/\"\n",
    "    params = {\n",
    "        'v': '0.1',\n",
    "        'x': x,\n",
    "        'y': y,\n",
    "        'z': z,\n",
    "        'p': p,\n",
    "        'd': d,\n",
    "        'locale': locale,\n",
    "        'b': bbox,\n",
    "        'e': extent,\n",
    "        'sfz': sfz,\n",
    "        'w': ''  # Il parametro 'w' è vuoto nell'URL originale\n",
    "    }\n",
    "    # Costruisci l'URL aggiungendo i parametri come stringa di query\n",
    "    url = base_url + '?' + '&'.join([f\"{key}={value}\" for key, value in params.items()])\n",
    "    return url"
   ],
   "id": "f641bfb73e087a3a"
  },
  {
   "metadata": {},
   "cell_type": "markdown",
   "source": [
    "def get_mars_data(x, y, z, p, d='', locale='', bbox='', extent='', sfz=''):\n",
    "    # Costruisci l'URL utilizzando la funzione build_mars_url\n",
    "    url = build_mars_url(x, y, z, p, d, locale, bbox, extent, sfz)\n",
    "    print(url)\n",
    "    try:\n",
    "        # Esegui la richiesta GET all'URL\n",
    "        response = requests.get(url)\n",
    "        # Verifica se la richiesta è andata a buon fine (status code 200)\n",
    "        if response.status_code == 200:\n",
    "            # Restituisci il contenuto della risposta\n",
    "            return response.content\n",
    "        else:\n",
    "            # Se la richiesta non è andata a buon fine, stampa un messaggio di errore\n",
    "            print(f\"Errore durante la richiesta GET: {response.status_code}\")\n",
    "            return None\n",
    "    except requests.exceptions.RequestException as e:\n",
    "        # Se si verifica un'eccezione durante la richiesta, stampa l'errore\n",
    "        print(f\"Errore durante la richiesta GET: {e}\")\n",
    "        return None"
   ],
   "id": "132728efef337a80"
  },
  {
   "metadata": {
    "ExecuteTime": {
     "end_time": "2024-04-26T08:38:35.041595Z",
     "start_time": "2024-04-26T08:38:35.010346Z"
    }
   },
   "cell_type": "code",
   "source": [
    "def get_data_from_coordinates(lat,lon,zoom, api_key):\n",
    "    data = []\n",
    "    lat, lon = cc.lat_lon_to_tile_cil(lat, lon, zoom)\n",
    "    url = uc.get_request_url(lat, lon, tileMatrix=zoom)\n",
    "    print(url)\n",
    "    params = {'api_key': api_key}  # Aggiungi la chiave API come parametro\n",
    "    \n",
    "    # Esegui la richiesta HTTP con la chiave API\n",
    "    response = requests.get(url, params=params)\n",
    "    \n",
    "    if response.status_code == 200:\n",
    "        data.append([id,response.content])\n",
    "    else:\n",
    "        print('error')\n",
    "    return data"
   ],
   "id": "7579e8fe6c523f2d",
   "outputs": [],
   "execution_count": 5
  },
  {
   "metadata": {
    "ExecuteTime": {
     "end_time": "2024-04-26T08:57:00.178056Z",
     "start_time": "2024-04-26T08:56:59.210846Z"
    }
   },
   "cell_type": "code",
   "source": "data_new = get_data_from_coordinates(16.8007, -4.8254,0, api_key)\n",
   "id": "658e9c015e7508c9",
   "outputs": [
    {
     "name": "stdout",
     "output_type": "stream",
     "text": [
      "https://trek.nasa.gov/tiles/Mars/EQ/msss_atlas_simp_clon/1.0.0//default/default028mm/0/0/0.png\n"
     ]
    }
   ],
   "execution_count": 17
  },
  {
   "metadata": {},
   "cell_type": "code",
   "outputs": [],
   "execution_count": null,
   "source": "",
   "id": "496decd0d7102c4c"
  }
 ],
 "metadata": {
  "kernelspec": {
   "display_name": "Python 3",
   "language": "python",
   "name": "python3"
  },
  "language_info": {
   "codemirror_mode": {
    "name": "ipython",
    "version": 2
   },
   "file_extension": ".py",
   "mimetype": "text/x-python",
   "name": "python",
   "nbconvert_exporter": "python",
   "pygments_lexer": "ipython2",
   "version": "2.7.6"
  }
 },
 "nbformat": 4,
 "nbformat_minor": 5
}
