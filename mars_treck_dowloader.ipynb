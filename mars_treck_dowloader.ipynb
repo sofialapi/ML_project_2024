{
 "cells": [
  {
   "metadata": {},
   "cell_type": "markdown",
   "source": "importo i pacchetti necessari",
   "id": "d1edfda9c66326c2"
  },
  {
   "cell_type": "code",
   "id": "initial_id",
   "metadata": {
    "collapsed": true,
    "ExecuteTime": {
     "end_time": "2024-04-25T13:17:28.320447Z",
     "start_time": "2024-04-25T13:17:23.858453Z"
    }
   },
   "source": [
    "import pandas as pd\n",
    "import requests\n",
    "import coordinates_calcolator as cc\n",
    "import url_contructor as uc\n",
    "import image_visualizator as iv\n",
    "from db_manager import create_empty_csv, populate_csv\n",
    "import toml"
   ],
   "outputs": [
    {
     "name": "stdout",
     "output_type": "stream",
     "text": [
      "           id     lat     lon   diam  depth\n",
      "2   01-000002  69.244 -27.240  79.63   0.09\n",
      "8   01-000008  75.539  13.829  58.40   0.11\n",
      "10  01-000010  77.707 -27.314  52.37   0.07\n",
      "15  01-000015  84.687   1.589  48.84   1.06\n",
      "23  01-000023  84.452 -18.503  43.03   0.49\n",
      "(85148, 5)\n"
     ]
    }
   ],
   "execution_count": 1
  },
  {
   "metadata": {},
   "cell_type": "markdown",
   "source": "prendo i dati dal csv filtrato",
   "id": "827efad47ba69229"
  },
  {
   "metadata": {
    "ExecuteTime": {
     "end_time": "2024-04-25T13:17:28.492444Z",
     "start_time": "2024-04-25T13:17:28.324450Z"
    }
   },
   "cell_type": "code",
   "source": [
    "mars_data = pd.read_csv('Mars_crater_db_filtered.csv')\n",
    "zoom = 6\n",
    "#create_empty_csv('Mars_crater_db_images.csv', ['id', 'image'])\n",
    "toml_data = toml.load('secrets.toml')\n",
    "api_key = toml_data['api_key']"
   ],
   "id": "4789541d2902e8bd",
   "outputs": [],
   "execution_count": 2
  },
  {
   "metadata": {},
   "cell_type": "markdown",
   "source": "dato un valore di inizio e uno di fine da mars data faccio partire una request costruita con url_contructor con lat e lon da coordinates_calcolator",
   "id": "615b928f89e8fb4d"
  },
  {
   "metadata": {
    "ExecuteTime": {
     "end_time": "2024-04-25T13:17:28.508447Z",
     "start_time": "2024-04-25T13:17:28.495449Z"
    }
   },
   "cell_type": "code",
   "source": [
    "def get_data(start, end, api_key):\n",
    "    data = []\n",
    "    for i in range(start, end):\n",
    "        lat = mars_data['lat'][i]\n",
    "        #print(lat)\n",
    "        lon = mars_data['lon'][i]\n",
    "        #print(lon)\n",
    "        id = mars_data['id'][i]\n",
    "        #print(id)\n",
    "        lat, lon = cc.lat_lon_to_tile(lat, lon, zoom)\n",
    "        #print (lat, lon)\n",
    "        url = uc.get_request_url(lat, lon, tileMatrix=zoom)\n",
    "        print(url)\n",
    "        params = {'api_key': api_key}  # Aggiungi la chiave API come parametro\n",
    "        \n",
    "        # Esegui la richiesta HTTP con la chiave API\n",
    "        response = requests.get(url, params=params)\n",
    "       \n",
    "        if response.status_code == 200:\n",
    "            data.append([id,response.content])\n",
    "        else:\n",
    "            print('error')\n",
    "    return data"
   ],
   "id": "c48cd73a0c65ddd1",
   "outputs": [],
   "execution_count": 3
  },
  {
   "metadata": {
    "ExecuteTime": {
     "end_time": "2024-04-25T13:18:14.247072Z",
     "start_time": "2024-04-25T13:18:01.136165Z"
    }
   },
   "cell_type": "code",
   "source": "data = get_data(0,20, api_key)\n",
   "id": "ed426354608e334b",
   "outputs": [
    {
     "name": "stdout",
     "output_type": "stream",
     "text": [
      "https://trek.nasa.gov/tiles/Mars/EQ/msss_atlas_simp_clon/1.0.0//default/default028mm/6/27/14.png\n",
      "https://trek.nasa.gov/tiles/Mars/EQ/msss_atlas_simp_clon/1.0.0//default/default028mm/6/34/10.png\n",
      "https://trek.nasa.gov/tiles/Mars/EQ/msss_atlas_simp_clon/1.0.0//default/default028mm/6/27/9.png\n",
      "https://trek.nasa.gov/tiles/Mars/EQ/msss_atlas_simp_clon/1.0.0//default/default028mm/6/32/0.png\n",
      "https://trek.nasa.gov/tiles/Mars/EQ/msss_atlas_simp_clon/1.0.0//default/default028mm/6/28/1.png\n",
      "https://trek.nasa.gov/tiles/Mars/EQ/msss_atlas_simp_clon/1.0.0//default/default028mm/6/30/14.png\n",
      "https://trek.nasa.gov/tiles/Mars/EQ/msss_atlas_simp_clon/1.0.0//default/default028mm/6/33/14.png\n",
      "https://trek.nasa.gov/tiles/Mars/EQ/msss_atlas_simp_clon/1.0.0//default/default028mm/6/33/15.png\n",
      "https://trek.nasa.gov/tiles/Mars/EQ/msss_atlas_simp_clon/1.0.0//default/default028mm/6/32/10.png\n",
      "https://trek.nasa.gov/tiles/Mars/EQ/msss_atlas_simp_clon/1.0.0//default/default028mm/6/35/14.png\n",
      "https://trek.nasa.gov/tiles/Mars/EQ/msss_atlas_simp_clon/1.0.0//default/default028mm/6/29/11.png\n",
      "https://trek.nasa.gov/tiles/Mars/EQ/msss_atlas_simp_clon/1.0.0//default/default028mm/6/37/13.png\n",
      "https://trek.nasa.gov/tiles/Mars/EQ/msss_atlas_simp_clon/1.0.0//default/default028mm/6/26/8.png\n",
      "https://trek.nasa.gov/tiles/Mars/EQ/msss_atlas_simp_clon/1.0.0//default/default028mm/6/29/13.png\n",
      "https://trek.nasa.gov/tiles/Mars/EQ/msss_atlas_simp_clon/1.0.0//default/default028mm/6/28/16.png\n",
      "https://trek.nasa.gov/tiles/Mars/EQ/msss_atlas_simp_clon/1.0.0//default/default028mm/6/36/12.png\n",
      "https://trek.nasa.gov/tiles/Mars/EQ/msss_atlas_simp_clon/1.0.0//default/default028mm/6/34/9.png\n",
      "https://trek.nasa.gov/tiles/Mars/EQ/msss_atlas_simp_clon/1.0.0//default/default028mm/6/36/12.png\n",
      "https://trek.nasa.gov/tiles/Mars/EQ/msss_atlas_simp_clon/1.0.0//default/default028mm/6/32/12.png\n",
      "https://trek.nasa.gov/tiles/Mars/EQ/msss_atlas_simp_clon/1.0.0//default/default028mm/6/30/7.png\n"
     ]
    }
   ],
   "execution_count": 7
  },
  {
   "metadata": {},
   "cell_type": "markdown",
   "source": [
    "\n",
    "for i in range(len(data)):\n",
    "    id = data[i][0]\n",
    "    print(id)\n",
    "    image = data[i][1]\n",
    "    iv.image_visualizator_from_bin(image)\n"
   ],
   "id": "38175128ab6b5a47"
  },
  {
   "metadata": {},
   "cell_type": "markdown",
   "source": "popolo il csv 'Mars_crater_db_images.csv' con i dati ottenuti",
   "id": "7648b1b54dd356db"
  },
  {
   "metadata": {
    "ExecuteTime": {
     "end_time": "2024-04-25T13:18:17.262550Z",
     "start_time": "2024-04-25T13:18:17.098551Z"
    }
   },
   "cell_type": "code",
   "source": "populate_csv(data)\n",
   "id": "ad7f7120e7253f61",
   "outputs": [
    {
     "name": "stdout",
     "output_type": "stream",
     "text": [
      "Added 11 new entries. Total entries: 20 (before: 9)\n"
     ]
    }
   ],
   "execution_count": 8
  },
  {
   "metadata": {
    "ExecuteTime": {
     "end_time": "2024-04-25T13:17:31.929358Z",
     "start_time": "2024-04-25T13:17:31.907352Z"
    }
   },
   "cell_type": "code",
   "source": "print(len(data))",
   "id": "3d80e27ce31b832c",
   "outputs": [
    {
     "name": "stdout",
     "output_type": "stream",
     "text": [
      "5\n"
     ]
    }
   ],
   "execution_count": 6
  },
  {
   "metadata": {},
   "cell_type": "markdown",
   "source": "",
   "id": "75a45f5571b2cf17"
  }
 ],
 "metadata": {
  "kernelspec": {
   "display_name": "Python 3",
   "language": "python",
   "name": "python3"
  },
  "language_info": {
   "codemirror_mode": {
    "name": "ipython",
    "version": 2
   },
   "file_extension": ".py",
   "mimetype": "text/x-python",
   "name": "python",
   "nbconvert_exporter": "python",
   "pygments_lexer": "ipython2",
   "version": "2.7.6"
  }
 },
 "nbformat": 4,
 "nbformat_minor": 5
}
