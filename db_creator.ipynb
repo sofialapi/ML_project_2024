{
 "cells": [
  {
   "cell_type": "code",
   "id": "initial_id",
   "metadata": {
    "collapsed": true,
    "ExecuteTime": {
     "end_time": "2024-04-26T11:03:15.549117Z",
     "start_time": "2024-04-26T11:03:15.533527Z"
    }
   },
   "source": [
    "import db_manager as man\n",
    "import pandas as pd\n",
    "import matplotlib.pyplot as plt"
   ],
   "outputs": [],
   "execution_count": 30
  },
  {
   "metadata": {},
   "cell_type": "markdown",
   "source": "leggo i db di origine",
   "id": "78cdfda04850ede8"
  },
  {
   "metadata": {
    "ExecuteTime": {
     "end_time": "2024-04-26T11:03:16.621607Z",
     "start_time": "2024-04-26T11:03:15.612550Z"
    }
   },
   "cell_type": "code",
   "source": [
    "df = pd.read_csv('Mars_crater_db_complete.csv')\n",
    "volcano_df = pd.read_csv('vulcani_marte.csv')"
   ],
   "id": "ae0ebf37dde2d76f",
   "outputs": [],
   "execution_count": 31
  },
  {
   "metadata": {},
   "cell_type": "markdown",
   "source": "gestisco il db dei crateri",
   "id": "6a42e6f7addac321"
  },
  {
   "metadata": {
    "ExecuteTime": {
     "end_time": "2024-04-26T11:03:16.736836Z",
     "start_time": "2024-04-26T11:03:16.634682Z"
    }
   },
   "cell_type": "code",
   "source": [
    "#Creo un nuovo dataframe con solo le colonne di interesse\n",
    "df = df[['CRATER_ID', 'LATITUDE_CIRCLE_IMAGE', 'LONGITUDE_CIRCLE_IMAGE', 'DIAM_CIRCLE_IMAGE', 'DEPTH_RIMFLOOR_TOPOG']]\n",
    "\n",
    "#Rinomino le colonne\n",
    "df.columns = ['id', 'lat', 'lon', 'diam', 'depth']\n",
    "\n",
    "df_filtered = man.filter_lat(df,-45, 45)\n",
    "\n",
    "#stampo le prime 5 righe del database filtrato\n",
    "print(df_filtered.head())\n",
    "#stampo la dimensione del database filtrato\n",
    "print(df_filtered.shape)\n"
   ],
   "id": "3c734b2c12a07fd0",
   "outputs": [
    {
     "name": "stdout",
     "output_type": "stream",
     "text": [
      "             id     lat      lon    diam  depth\n",
      "6405  02-000000  36.748 -167.572  376.35   0.29\n",
      "6406  02-000001  31.119 -173.155  189.85   0.44\n",
      "6407  02-000002  36.405 -172.817  130.81   0.46\n",
      "6409  02-000004  34.680 -132.517   65.49   0.37\n",
      "6410  02-000005  43.974 -141.039   61.52   0.54\n",
      "(305243, 5)\n"
     ]
    }
   ],
   "execution_count": 32
  },
  {
   "metadata": {
    "ExecuteTime": {
     "end_time": "2024-04-26T11:03:17.364008Z",
     "start_time": "2024-04-26T11:03:16.736836Z"
    }
   },
   "cell_type": "code",
   "source": [
    "#visualizzo la distribuzione dell'attributo \"diam\" del database filtrato\n",
    "plt.hist(df_filtered['diam'], bins=100, color='skyblue', edgecolor='black')\n",
    "plt.title('Distribuzione del diametro')\n",
    "plt.xlabel('Diametro')\n",
    "plt.ylabel('Frequenza')\n",
    "\n",
    "# Imposta i limiti dell'asse x\n",
    "plt.xlim(xmin=0, xmax=100)  # Modifica questi valori in base ai tuoi dati\n",
    "\n",
    "plt.show()"
   ],
   "id": "ab437b986b28c2f0",
   "outputs": [
    {
     "data": {
      "text/plain": [
       "<Figure size 640x480 with 1 Axes>"
      ],
      "image/png": "[encoded data removed]"
     },
     "metadata": {},
     "output_type": "display_data"
    }
   ],
   "execution_count": 33
  },
  {
   "metadata": {
    "ExecuteTime": {
     "end_time": "2024-04-26T11:03:19.241294Z",
     "start_time": "2024-04-26T11:03:17.364008Z"
    }
   },
   "cell_type": "code",
   "source": [
    "#salvo il nuovo database\n",
    "df_filtered = man.filter_diam(df_filtered, 1.5)\n",
    "print(df_filtered.shape)\n",
    "df_filtered.to_csv('crateri_marte.csv', index=False)"
   ],
   "id": "f68185244d72bb6a",
   "outputs": [
    {
     "name": "stdout",
     "output_type": "stream",
     "text": [
      "(150937, 5)\n"
     ]
    }
   ],
   "execution_count": 34
  },
  {
   "metadata": {},
   "cell_type": "markdown",
   "source": "gestisco il db dei vulcani",
   "id": "a67de9a477f29ca0"
  },
  {
   "metadata": {
    "ExecuteTime": {
     "end_time": "2024-04-26T11:03:19.272552Z",
     "start_time": "2024-04-26T11:03:19.241294Z"
    }
   },
   "cell_type": "code",
   "source": [
    "print(volcano_df.columns.tolist())\n",
    "volcano_df = volcano_df[['name', 'lat', 'lon180e']]\n",
    "print(volcano_df.columns.tolist())\n",
    "volcano_df.columns = ['name', 'lat', 'lon']"
   ],
   "id": "4d7bc8f7bc08d348",
   "outputs": [
    {
     "name": "stdout",
     "output_type": "stream",
     "text": [
      "['name', 'peri', 'dia', 'area', 'reference', 'name2', 'type', 'group', 'edificea', 'edificeb', 'source', 'typehodges', 'lat', 'lon180e', 'img', 'max_1', 'range_1', 'mean']\n",
      "['name', 'lat', 'lon180e']\n"
     ]
    }
   ],
   "execution_count": 35
  },
  {
   "metadata": {
    "ExecuteTime": {
     "end_time": "2024-04-26T11:03:19.288169Z",
     "start_time": "2024-04-26T11:03:19.272552Z"
    }
   },
   "cell_type": "code",
   "source": "volcano_df = man.filter_lat(volcano_df, -45, 45)",
   "id": "b628e0a5516b57c6",
   "outputs": [],
   "execution_count": 36
  },
  {
   "metadata": {
    "ExecuteTime": {
     "end_time": "2024-04-26T11:03:19.319420Z",
     "start_time": "2024-04-26T11:03:19.288169Z"
    }
   },
   "cell_type": "code",
   "source": [
    "print(volcano_df.head())\n",
    "print(volcano_df.shape)"
   ],
   "id": "d5c91e4911bfeb75",
   "outputs": [
    {
     "name": "stdout",
     "output_type": "stream",
     "text": [
      "                                    name       lat       lon\n",
      "0                           Jovis Tholus  18.21190 -117.3980\n",
      "5                   Sinai buried caldera -13.19920  -77.1695\n",
      "6  Apollinaris Patera, 44 in Xiao et al.  -8.49625  174.3940\n",
      "7                         Ulysses Tholus   2.96900 -121.5260\n",
      "8                          Biblis Tholus   2.39135 -123.8940\n",
      "(606, 3)\n"
     ]
    }
   ],
   "execution_count": 37
  },
  {
   "metadata": {
    "ExecuteTime": {
     "end_time": "2024-04-26T11:03:19.350667Z",
     "start_time": "2024-04-26T11:03:19.319420Z"
    }
   },
   "cell_type": "code",
   "source": "volcano_df.to_csv('vulcani_marte_filtrato.csv', index=False)",
   "id": "eb6694b0f7b519b6",
   "outputs": [],
   "execution_count": 38
  },
  {
   "metadata": {
    "ExecuteTime": {
     "end_time": "2024-04-26T11:03:19.366292Z",
     "start_time": "2024-04-26T11:03:19.350667Z"
    }
   },
   "cell_type": "code",
   "source": "",
   "id": "57a045be2cfa0c3e",
   "outputs": [],
   "execution_count": 38
  }
 ],
 "metadata": {
  "kernelspec": {
   "display_name": "Python 3",
   "language": "python",
   "name": "python3"
  },
  "language_info": {
   "codemirror_mode": {
    "name": "ipython",
    "version": 2
   },
   "file_extension": ".py",
   "mimetype": "text/x-python",
   "name": "python",
   "nbconvert_exporter": "python",
   "pygments_lexer": "ipython2",
   "version": "2.7.6"
  }
 },
 "nbformat": 4,
 "nbformat_minor": 5
}
